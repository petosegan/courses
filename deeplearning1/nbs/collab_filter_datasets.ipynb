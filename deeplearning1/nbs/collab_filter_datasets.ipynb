{
 "cells": [
  {
   "cell_type": "markdown",
   "metadata": {},
   "source": [
    "### Goal of this notebook:\n",
    "Investigate the differences between the BookCrossings and MovieLens ratings datasets to determine what is causing the poor training of collaborative filter models on the former."
   ]
  },
  {
   "cell_type": "code",
   "execution_count": 28,
   "metadata": {
    "collapsed": true
   },
   "outputs": [],
   "source": [
    "%matplotlib inline\n",
    "import pandas as pd\n",
    "import numpy as np\n",
    "import matplotlib.pyplot as plt\n",
    "from __future__ import division, print_function\n",
    "from collections import Counter\n",
    "import networkx as nx\n",
    "import random"
   ]
  },
  {
   "cell_type": "markdown",
   "metadata": {},
   "source": [
    "### Read in both datasets"
   ]
  },
  {
   "cell_type": "code",
   "execution_count": 4,
   "metadata": {
    "collapsed": true
   },
   "outputs": [],
   "source": [
    "ml_path = \"data/ml-small/\"\n",
    "bx_path = \"data/book-crossings/\""
   ]
  },
  {
   "cell_type": "code",
   "execution_count": 5,
   "metadata": {},
   "outputs": [
    {
     "data": {
      "text/html": [
       "<div>\n",
       "<table border=\"1\" class=\"dataframe\">\n",
       "  <thead>\n",
       "    <tr style=\"text-align: right;\">\n",
       "      <th></th>\n",
       "      <th>userId</th>\n",
       "      <th>movieId</th>\n",
       "      <th>rating</th>\n",
       "      <th>timestamp</th>\n",
       "    </tr>\n",
       "  </thead>\n",
       "  <tbody>\n",
       "    <tr>\n",
       "      <th>0</th>\n",
       "      <td>1</td>\n",
       "      <td>31</td>\n",
       "      <td>2.5</td>\n",
       "      <td>1260759144</td>\n",
       "    </tr>\n",
       "    <tr>\n",
       "      <th>1</th>\n",
       "      <td>1</td>\n",
       "      <td>1029</td>\n",
       "      <td>3.0</td>\n",
       "      <td>1260759179</td>\n",
       "    </tr>\n",
       "    <tr>\n",
       "      <th>2</th>\n",
       "      <td>1</td>\n",
       "      <td>1061</td>\n",
       "      <td>3.0</td>\n",
       "      <td>1260759182</td>\n",
       "    </tr>\n",
       "    <tr>\n",
       "      <th>3</th>\n",
       "      <td>1</td>\n",
       "      <td>1129</td>\n",
       "      <td>2.0</td>\n",
       "      <td>1260759185</td>\n",
       "    </tr>\n",
       "    <tr>\n",
       "      <th>4</th>\n",
       "      <td>1</td>\n",
       "      <td>1172</td>\n",
       "      <td>4.0</td>\n",
       "      <td>1260759205</td>\n",
       "    </tr>\n",
       "  </tbody>\n",
       "</table>\n",
       "</div>"
      ],
      "text/plain": [
       "   userId  movieId  rating   timestamp\n",
       "0       1       31     2.5  1260759144\n",
       "1       1     1029     3.0  1260759179\n",
       "2       1     1061     3.0  1260759182\n",
       "3       1     1129     2.0  1260759185\n",
       "4       1     1172     4.0  1260759205"
      ]
     },
     "execution_count": 5,
     "metadata": {},
     "output_type": "execute_result"
    }
   ],
   "source": [
    "ml_ratings = pd.read_csv(ml_path+'ratings.csv')\n",
    "ml_ratings.head()"
   ]
  },
  {
   "cell_type": "code",
   "execution_count": 6,
   "metadata": {},
   "outputs": [
    {
     "data": {
      "text/html": [
       "<div>\n",
       "<table border=\"1\" class=\"dataframe\">\n",
       "  <thead>\n",
       "    <tr style=\"text-align: right;\">\n",
       "      <th></th>\n",
       "      <th>userId</th>\n",
       "      <th>bookId</th>\n",
       "      <th>rating</th>\n",
       "    </tr>\n",
       "  </thead>\n",
       "  <tbody>\n",
       "    <tr>\n",
       "      <th>1</th>\n",
       "      <td>276726</td>\n",
       "      <td>0155061224</td>\n",
       "      <td>5</td>\n",
       "    </tr>\n",
       "    <tr>\n",
       "      <th>3</th>\n",
       "      <td>276729</td>\n",
       "      <td>052165615X</td>\n",
       "      <td>3</td>\n",
       "    </tr>\n",
       "    <tr>\n",
       "      <th>4</th>\n",
       "      <td>276729</td>\n",
       "      <td>0521795028</td>\n",
       "      <td>6</td>\n",
       "    </tr>\n",
       "    <tr>\n",
       "      <th>6</th>\n",
       "      <td>276736</td>\n",
       "      <td>3257224281</td>\n",
       "      <td>8</td>\n",
       "    </tr>\n",
       "    <tr>\n",
       "      <th>7</th>\n",
       "      <td>276737</td>\n",
       "      <td>0600570967</td>\n",
       "      <td>6</td>\n",
       "    </tr>\n",
       "  </tbody>\n",
       "</table>\n",
       "</div>"
      ],
      "text/plain": [
       "   userId      bookId  rating\n",
       "1  276726  0155061224       5\n",
       "3  276729  052165615X       3\n",
       "4  276729  0521795028       6\n",
       "6  276736  3257224281       8\n",
       "7  276737  0600570967       6"
      ]
     },
     "execution_count": 6,
     "metadata": {},
     "output_type": "execute_result"
    }
   ],
   "source": [
    "bx_ratings = pd.read_csv(bx_path+\"BX-Book-Ratings.csv\", delimiter=';')\n",
    "bx_ratings = bx_ratings[bx_ratings[\"Book-Rating\"] != 0]\n",
    "bx_ratings.columns = ['userId', 'bookId', 'rating']\n",
    "bx_ratings.head()"
   ]
  },
  {
   "cell_type": "markdown",
   "metadata": {},
   "source": [
    "### Compare global statistics\n",
    "* Raw number of valid datapoints\n",
    "* Number of unique users, items\n",
    "* Frequency distributions of users, items\n",
    "* Distributions of ratings"
   ]
  },
  {
   "cell_type": "code",
   "execution_count": 7,
   "metadata": {},
   "outputs": [
    {
     "name": "stdout",
     "output_type": "stream",
     "text": [
      "100004\n",
      "433671\n"
     ]
    }
   ],
   "source": [
    "# compare total dataset size\n",
    "print(len(ml_ratings))\n",
    "print(len(bx_ratings))"
   ]
  },
  {
   "cell_type": "code",
   "execution_count": 8,
   "metadata": {},
   "outputs": [
    {
     "name": "stdout",
     "output_type": "stream",
     "text": [
      "671 users and 9066 movies\n",
      "Average of 149.0 ratings per user.\n",
      "Average of 11.0 ratings per movie.\n"
     ]
    }
   ],
   "source": [
    "ml_users = ml_ratings.userId.unique()\n",
    "ml_items = ml_ratings.movieId.unique()\n",
    "n_ml_users = ml_ratings.userId.nunique()\n",
    "n_ml_items = ml_ratings.movieId.nunique()\n",
    "print(\"%d users and %d movies\" %(n_ml_users, n_ml_items))\n",
    "print(\"Average of %2.1f ratings per user.\" % (len(ml_ratings) / n_ml_users))\n",
    "print(\"Average of %2.1f ratings per movie.\" % (len(ml_ratings) / n_ml_items))"
   ]
  },
  {
   "cell_type": "code",
   "execution_count": 9,
   "metadata": {},
   "outputs": [
    {
     "name": "stdout",
     "output_type": "stream",
     "text": [
      "77805 users and 185973 books\n",
      "Average of 5.6 ratings per user.\n",
      "Average of 2.3 ratings per book.\n"
     ]
    }
   ],
   "source": [
    "bx_users = bx_ratings.userId.unique()\n",
    "bx_items = bx_ratings.bookId.unique()\n",
    "n_bx_users = bx_ratings.userId.nunique()\n",
    "n_bx_items = bx_ratings.bookId.nunique()\n",
    "print(\"%d users and %d books\" %(n_bx_users, n_bx_items))\n",
    "print(\"Average of %2.1f ratings per user.\" % (len(bx_ratings) / n_bx_users))\n",
    "print(\"Average of %2.1f ratings per book.\" % (len(bx_ratings) / n_bx_items))"
   ]
  },
  {
   "cell_type": "code",
   "execution_count": 10,
   "metadata": {},
   "outputs": [
    {
     "data": {
      "text/plain": [
       "<matplotlib.text.Text at 0x1047f06d0>"
      ]
     },
     "execution_count": 10,
     "metadata": {},
     "output_type": "execute_result"
    },
    {
     "data": {
      "image/png": "[encoded data removed]",
      "text/plain": [
       "<matplotlib.figure.Figure at 0x1085cf8d0>"
      ]
     },
     "metadata": {},
     "output_type": "display_data"
    }
   ],
   "source": [
    "# get freq dists of users, items\n",
    "ml_user_counts = Counter(ml_ratings.userId)\n",
    "ml_counts, ml_bins, _ = plt.hist(ml_user_counts.values(), log=True, alpha=0.5, normed=True, label='MovieLens')\n",
    "bx_user_counts = Counter(bx_ratings.userId)\n",
    "plt.hist(bx_user_counts.values(), bins = ml_bins, alpha=0.5, log=True, normed=True, label='BookCrossings')\n",
    "plt.legend()\n",
    "plt.title('Frequency Distribution of User Counts')"
   ]
  },
  {
   "cell_type": "code",
   "execution_count": 11,
   "metadata": {},
   "outputs": [
    {
     "data": {
      "text/plain": [
       "<matplotlib.text.Text at 0x10b8f8a10>"
      ]
     },
     "execution_count": 11,
     "metadata": {},
     "output_type": "execute_result"
    },
    {
     "data": {
      "image/png": "[encoded data removed]",
      "text/plain": [
       "<matplotlib.figure.Figure at 0x10fde39d0>"
      ]
     },
     "metadata": {},
     "output_type": "display_data"
    }
   ],
   "source": [
    "ml_item_counts = Counter(ml_ratings.movieId)\n",
    "ml_counts, ml_bins, _ = plt.hist(ml_item_counts.values(), log=True, alpha=0.5, normed=True, label='MovieLens')\n",
    "bx_item_counts = Counter(bx_ratings.bookId)\n",
    "plt.hist(bx_item_counts.values(), bins = ml_bins, alpha=0.5, log=True, normed=True, label='BookCrossings')\n",
    "plt.legend()\n",
    "plt.title('Frequency Distribution of Item Counts')"
   ]
  },
  {
   "cell_type": "code",
   "execution_count": 12,
   "metadata": {},
   "outputs": [
    {
     "data": {
      "text/plain": [
       "<matplotlib.text.Text at 0x10bd47c50>"
      ]
     },
     "execution_count": 12,
     "metadata": {},
     "output_type": "execute_result"
    },
    {
     "data": {
      "image/png": "[encoded data removed]",
      "text/plain": [
       "<matplotlib.figure.Figure at 0x10a08d750>"
      ]
     },
     "metadata": {},
     "output_type": "display_data"
    }
   ],
   "source": [
    "# freq dists of ratings\n",
    "ml_rating_counter = Counter(ml_ratings.rating)\n",
    "ml_rating_scores = 2*np.array(ml_rating_counter.keys())\n",
    "ml_rating_counts = np.array(ml_rating_counter.values()) / np.sum(ml_rating_counter.values())\n",
    "bx_rating_counter = Counter(bx_ratings.rating)\n",
    "bx_rating_scores = np.array(bx_rating_counter.keys()) + 0.5\n",
    "bx_rating_counts = np.array(bx_rating_counter.values()) / np.sum(bx_rating_counter.values())\n",
    "plt.bar(ml_rating_scores, ml_rating_counts,\n",
    "        width=0.25, label='MovieLens', color='blue')\n",
    "plt.bar(bx_rating_scores, bx_rating_counts,\n",
    "        width=0.25, label='BookCrossings', color='red')\n",
    "plt.legend(loc='upper left')\n",
    "plt.title('Frequency Distribution of Ratings')"
   ]
  },
  {
   "cell_type": "markdown",
   "metadata": {},
   "source": [
    "### Compare ratings graph structures\n",
    "* Clique sizes?\n",
    "* Connected Components?"
   ]
  },
  {
   "cell_type": "code",
   "execution_count": 13,
   "metadata": {
    "collapsed": true
   },
   "outputs": [],
   "source": [
    "mlG = nx.Graph()\n",
    "\n",
    "for user in ml_ratings.userId:\n",
    "    mlG.add_node(\"u%d\" % user)\n",
    "for item in ml_ratings.movieId:\n",
    "    mlG.add_node(\"i%d\" % item)\n",
    "for row in ml_ratings.itertuples():\n",
    "    mlG.add_edge(\"u%d\"%row[1], \"i%d\"%row[2])"
   ]
  },
  {
   "cell_type": "code",
   "execution_count": 14,
   "metadata": {},
   "outputs": [
    {
     "name": "stdout",
     "output_type": "stream",
     "text": [
      "1\n"
     ]
    }
   ],
   "source": [
    "print(len(list(nx.connected_components(mlG))))"
   ]
  },
  {
   "cell_type": "code",
   "execution_count": 17,
   "metadata": {},
   "outputs": [],
   "source": [
    "bxG = nx.Graph()\n",
    "\n",
    "for user in bx_ratings.userId:\n",
    "    bxG.add_node(\"u%d\" % user)\n",
    "for item in bx_ratings.bookId:\n",
    "    bxG.add_node(\"i%s\" % item)\n",
    "for row in bx_ratings.itertuples():\n",
    "    bxG.add_edge(\"u%d\"%row[1], \"i%s\"%row[2])"
   ]
  },
  {
   "cell_type": "code",
   "execution_count": null,
   "metadata": {
    "collapsed": true
   },
   "outputs": [],
   "source": [
    "print(len(list(nx.connected_components(bxG))))\n",
    "bx_conn = list(nx.connected_components(bxG))\n",
    "bx_conn.sort(key=len, reverse=True)\n",
    "bx_conn_largest = bx_conn[0]"
   ]
  },
  {
   "cell_type": "raw",
   "metadata": {},
   "source": [
    "print(random.sample(bx_conn_largest, 10))\n",
    "print(len(bx_conn_largest))"
   ]
  },
  {
   "cell_type": "markdown",
   "metadata": {},
   "source": [
    "### Restrict BookCrossings to the largest connected component"
   ]
  },
  {
   "cell_type": "code",
   "execution_count": 62,
   "metadata": {},
   "outputs": [
    {
     "name": "stdout",
     "output_type": "stream",
     "text": [
      "There are 61958 users in the largest component.\n",
      "This is 79.6% of all users.\n"
     ]
    }
   ],
   "source": [
    "bx_lcc_users = [int(n[1:]) for n in bx_conn_largest if n[0] == 'u']\n",
    "#print(bx_lcc_users[:10])\n",
    "print(\"There are %d users in the largest component.\" % len(bx_lcc_users))\n",
    "print(\"This is %2.1f%% of all users.\" % (100 * len(bx_lcc_users) / n_bx_users))"
   ]
  },
  {
   "cell_type": "code",
   "execution_count": 63,
   "metadata": {},
   "outputs": [
    {
     "name": "stdout",
     "output_type": "stream",
     "text": [
      "There are 167192 items in the largest component.\n",
      "This is 89.9% of all items.\n"
     ]
    }
   ],
   "source": [
    "bx_lcc_items = [n for n in bx_conn_largest if n[0] == 'i']\n",
    "#print(bx_lcc_items[:10])\n",
    "print(\"There are %d items in the largest component.\" %len(bx_lcc_items))\n",
    "print(\"This is %2.1f%% of all items.\" % (100 * len(bx_lcc_items) / n_bx_items))"
   ]
  },
  {
   "cell_type": "code",
   "execution_count": 64,
   "metadata": {},
   "outputs": [
    {
     "name": "stdout",
     "output_type": "stream",
     "text": [
      "95.4% of all ratings are in the largest component.\n"
     ]
    }
   ],
   "source": [
    "bx_ratings_lcc = bx_ratings[bx_ratings.userId.isin(bx_lcc_users)]\n",
    "print(\"%2.1f%% of all ratings are in the largest component.\" % \n",
    "      (100 * len(bx_ratings_lcc) / len(bx_ratings)))"
   ]
  },
  {
   "cell_type": "markdown",
   "metadata": {},
   "source": [
    "It's a little hard to believe that my performance is getting smashed by 5% of the entries..."
   ]
  },
  {
   "cell_type": "markdown",
   "metadata": {},
   "source": [
    "### Retry collaborative filtering on the connected subset"
   ]
  },
  {
   "cell_type": "code",
   "execution_count": null,
   "metadata": {
    "collapsed": true
   },
   "outputs": [],
   "source": []
  }
 ],
 "metadata": {
  "kernelspec": {
   "display_name": "Python 2",
   "language": "python",
   "name": "python2"
  },
  "language_info": {
   "codemirror_mode": {
    "name": "ipython",
    "version": 2
   },
   "file_extension": ".py",
   "mimetype": "text/x-python",
   "name": "python",
   "nbconvert_exporter": "python",
   "pygments_lexer": "ipython2",
   "version": "2.7.13"
  }
 },
 "nbformat": 4,
 "nbformat_minor": 2
}
