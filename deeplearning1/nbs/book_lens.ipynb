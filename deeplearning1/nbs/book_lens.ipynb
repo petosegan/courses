{
 "cells": [
  {
   "cell_type": "markdown",
   "metadata": {},
   "source": [
    "## goal of this notebook\n",
    "\n",
    "train a collaborative filter on the Booklens dataset"
   ]
  },
  {
   "cell_type": "code",
   "execution_count": 1,
   "metadata": {
    "collapsed": false
   },
   "outputs": [
    {
     "name": "stderr",
     "output_type": "stream",
     "text": [
      "Using gpu device 0: Tesla K80 (CNMeM is disabled, cuDNN 5103)\n",
      "/home/ubuntu/anaconda2/lib/python2.7/site-packages/theano/sandbox/cuda/__init__.py:600: UserWarning: Your cuDNN version is more recent than the one Theano officially supports. If you see any problems, try updating Theano or downgrading cuDNN to version 5.\n",
      "  warnings.warn(warn)\n"
     ]
    }
   ],
   "source": [
    "from theano.sandbox import cuda"
   ]
  },
  {
   "cell_type": "code",
   "execution_count": 2,
   "metadata": {
    "collapsed": false
   },
   "outputs": [
    {
     "name": "stderr",
     "output_type": "stream",
     "text": [
      "Using Theano backend.\n"
     ]
    }
   ],
   "source": [
    "%matplotlib inline\n",
    "import utils; reload(utils)\n",
    "from utils import *\n",
    "from __future__ import division, print_function"
   ]
  },
  {
   "cell_type": "code",
   "execution_count": 3,
   "metadata": {
    "collapsed": true
   },
   "outputs": [],
   "source": [
    "#path = \"data/ml-20m/\"\n",
    "path = \"data/book-lens/\"\n",
    "model_path = path + 'models/'\n",
    "if not os.path.exists(model_path): os.mkdir(model_path)\n",
    "batch_size=64"
   ]
  },
  {
   "cell_type": "markdown",
   "metadata": {},
   "source": [
    "## set up data"
   ]
  },
  {
   "cell_type": "code",
   "execution_count": 4,
   "metadata": {
    "collapsed": false
   },
   "outputs": [
    {
     "data": {
      "text/html": [
       "<div>\n",
       "<table border=\"1\" class=\"dataframe\">\n",
       "  <thead>\n",
       "    <tr style=\"text-align: right;\">\n",
       "      <th></th>\n",
       "      <th>User-ID</th>\n",
       "      <th>ISBN</th>\n",
       "      <th>Book-Rating</th>\n",
       "    </tr>\n",
       "  </thead>\n",
       "  <tbody>\n",
       "    <tr>\n",
       "      <th>1</th>\n",
       "      <td>276726</td>\n",
       "      <td>0155061224</td>\n",
       "      <td>5</td>\n",
       "    </tr>\n",
       "    <tr>\n",
       "      <th>3</th>\n",
       "      <td>276729</td>\n",
       "      <td>052165615X</td>\n",
       "      <td>3</td>\n",
       "    </tr>\n",
       "    <tr>\n",
       "      <th>4</th>\n",
       "      <td>276729</td>\n",
       "      <td>0521795028</td>\n",
       "      <td>6</td>\n",
       "    </tr>\n",
       "    <tr>\n",
       "      <th>6</th>\n",
       "      <td>276736</td>\n",
       "      <td>3257224281</td>\n",
       "      <td>8</td>\n",
       "    </tr>\n",
       "    <tr>\n",
       "      <th>7</th>\n",
       "      <td>276737</td>\n",
       "      <td>0600570967</td>\n",
       "      <td>6</td>\n",
       "    </tr>\n",
       "    <tr>\n",
       "      <th>8</th>\n",
       "      <td>276744</td>\n",
       "      <td>038550120X</td>\n",
       "      <td>7</td>\n",
       "    </tr>\n",
       "    <tr>\n",
       "      <th>9</th>\n",
       "      <td>276745</td>\n",
       "      <td>342310538</td>\n",
       "      <td>10</td>\n",
       "    </tr>\n",
       "    <tr>\n",
       "      <th>16</th>\n",
       "      <td>276747</td>\n",
       "      <td>0060517794</td>\n",
       "      <td>9</td>\n",
       "    </tr>\n",
       "    <tr>\n",
       "      <th>19</th>\n",
       "      <td>276747</td>\n",
       "      <td>0671537458</td>\n",
       "      <td>9</td>\n",
       "    </tr>\n",
       "    <tr>\n",
       "      <th>20</th>\n",
       "      <td>276747</td>\n",
       "      <td>0679776818</td>\n",
       "      <td>8</td>\n",
       "    </tr>\n",
       "    <tr>\n",
       "      <th>21</th>\n",
       "      <td>276747</td>\n",
       "      <td>0943066433</td>\n",
       "      <td>7</td>\n",
       "    </tr>\n",
       "    <tr>\n",
       "      <th>23</th>\n",
       "      <td>276747</td>\n",
       "      <td>1885408226</td>\n",
       "      <td>7</td>\n",
       "    </tr>\n",
       "    <tr>\n",
       "      <th>24</th>\n",
       "      <td>276748</td>\n",
       "      <td>0747558167</td>\n",
       "      <td>6</td>\n",
       "    </tr>\n",
       "    <tr>\n",
       "      <th>27</th>\n",
       "      <td>276751</td>\n",
       "      <td>3596218098</td>\n",
       "      <td>8</td>\n",
       "    </tr>\n",
       "    <tr>\n",
       "      <th>28</th>\n",
       "      <td>276754</td>\n",
       "      <td>0684867621</td>\n",
       "      <td>8</td>\n",
       "    </tr>\n",
       "    <tr>\n",
       "      <th>29</th>\n",
       "      <td>276755</td>\n",
       "      <td>0451166892</td>\n",
       "      <td>5</td>\n",
       "    </tr>\n",
       "    <tr>\n",
       "      <th>30</th>\n",
       "      <td>276760</td>\n",
       "      <td>8440682697</td>\n",
       "      <td>10</td>\n",
       "    </tr>\n",
       "    <tr>\n",
       "      <th>33</th>\n",
       "      <td>276762</td>\n",
       "      <td>0380711524</td>\n",
       "      <td>5</td>\n",
       "    </tr>\n",
       "    <tr>\n",
       "      <th>44</th>\n",
       "      <td>276762</td>\n",
       "      <td>3453092007</td>\n",
       "      <td>8</td>\n",
       "    </tr>\n",
       "    <tr>\n",
       "      <th>49</th>\n",
       "      <td>276762</td>\n",
       "      <td>3453213025</td>\n",
       "      <td>3</td>\n",
       "    </tr>\n",
       "  </tbody>\n",
       "</table>\n",
       "</div>"
      ],
      "text/plain": [
       "    User-ID        ISBN  Book-Rating\n",
       "1    276726  0155061224            5\n",
       "3    276729  052165615X            3\n",
       "4    276729  0521795028            6\n",
       "6    276736  3257224281            8\n",
       "7    276737  0600570967            6\n",
       "8    276744  038550120X            7\n",
       "9    276745   342310538           10\n",
       "16   276747  0060517794            9\n",
       "19   276747  0671537458            9\n",
       "20   276747  0679776818            8\n",
       "21   276747  0943066433            7\n",
       "23   276747  1885408226            7\n",
       "24   276748  0747558167            6\n",
       "27   276751  3596218098            8\n",
       "28   276754  0684867621            8\n",
       "29   276755  0451166892            5\n",
       "30   276760  8440682697           10\n",
       "33   276762  0380711524            5\n",
       "44   276762  3453092007            8\n",
       "49   276762  3453213025            3"
      ]
     },
     "execution_count": 4,
     "metadata": {},
     "output_type": "execute_result"
    }
   ],
   "source": [
    "ratings = pd.read_csv(path+'BX-Book-Ratings.csv', delimiter=';')\n",
    "# I'm throwing away the 'implicit' ratings\n",
    "ratings = ratings[ratings['Book-Rating'] != 0]\n",
    "ratings.head(20)"
   ]
  },
  {
   "cell_type": "code",
   "execution_count": 5,
   "metadata": {
    "collapsed": false
   },
   "outputs": [
    {
     "data": {
      "text/plain": [
       "433671"
      ]
     },
     "execution_count": 5,
     "metadata": {},
     "output_type": "execute_result"
    }
   ],
   "source": [
    "len(ratings)"
   ]
  },
  {
   "cell_type": "code",
   "execution_count": 6,
   "metadata": {
    "collapsed": false
   },
   "outputs": [
    {
     "name": "stderr",
     "output_type": "stream",
     "text": [
      "Skipping line 6452: expected 8 fields, saw 9\n",
      "Skipping line 43667: expected 8 fields, saw 10\n",
      "Skipping line 51751: expected 8 fields, saw 9\n",
      "\n",
      "Skipping line 92038: expected 8 fields, saw 9\n",
      "Skipping line 104319: expected 8 fields, saw 9\n",
      "Skipping line 121768: expected 8 fields, saw 9\n",
      "\n",
      "Skipping line 144058: expected 8 fields, saw 9\n",
      "Skipping line 150789: expected 8 fields, saw 9\n",
      "Skipping line 157128: expected 8 fields, saw 9\n",
      "Skipping line 180189: expected 8 fields, saw 9\n",
      "Skipping line 185738: expected 8 fields, saw 9\n",
      "\n",
      "Skipping line 209388: expected 8 fields, saw 9\n",
      "Skipping line 220626: expected 8 fields, saw 9\n",
      "Skipping line 227933: expected 8 fields, saw 11\n",
      "Skipping line 228957: expected 8 fields, saw 10\n",
      "Skipping line 245933: expected 8 fields, saw 9\n",
      "Skipping line 251296: expected 8 fields, saw 9\n",
      "Skipping line 259941: expected 8 fields, saw 9\n",
      "Skipping line 261529: expected 8 fields, saw 9\n",
      "\n",
      "/home/ubuntu/anaconda2/lib/python2.7/site-packages/IPython/core/interactiveshell.py:2717: DtypeWarning: Columns (3) have mixed types. Specify dtype option on import or set low_memory=False.\n",
      "  interactivity=interactivity, compiler=compiler, result=result)\n"
     ]
    }
   ],
   "source": [
    "book_names = pd.read_csv(path+'BX-Books.csv', delimiter=';', error_bad_lines=False).set_index('ISBN')['Book-Title'].to_dict()"
   ]
  },
  {
   "cell_type": "code",
   "execution_count": 7,
   "metadata": {
    "collapsed": false
   },
   "outputs": [
    {
     "data": {
      "text/plain": [
       "['Dennis the Menace: Make Believe Angel (Fawcett Gold Medal Book)',\n",
       " 'Losers, Inc.',\n",
       " 'All That Counts',\n",
       " \"Tess of the D'Urbervilles (Penguin Classics)\",\n",
       " 'How the Other Half Lives: Studies Among the Tenements of New York']"
      ]
     },
     "execution_count": 7,
     "metadata": {},
     "output_type": "execute_result"
    }
   ],
   "source": [
    "book_names.values()[:5]"
   ]
  },
  {
   "cell_type": "code",
   "execution_count": 8,
   "metadata": {
    "collapsed": false
   },
   "outputs": [
    {
     "name": "stdout",
     "output_type": "stream",
     "text": [
      "[276726 276729 276736 276737 276744]\n",
      "['0155061224' '052165615X' '0521795028' '3257224281' '0600570967']\n"
     ]
    }
   ],
   "source": [
    "users = ratings['User-ID'].unique()\n",
    "books = ratings['ISBN'].unique()\n",
    "print(users[:5])\n",
    "print(books[:5])"
   ]
  },
  {
   "cell_type": "code",
   "execution_count": 9,
   "metadata": {
    "collapsed": true
   },
   "outputs": [],
   "source": [
    "userid2idx = {o:i for i,o in enumerate(users)}\n",
    "bookid2idx = {o:i for i,o in enumerate(books)}"
   ]
  },
  {
   "cell_type": "code",
   "execution_count": 10,
   "metadata": {
    "collapsed": false
   },
   "outputs": [],
   "source": [
    "ratings['ISBN'] = ratings['ISBN'].apply(lambda x: bookid2idx[x])\n",
    "ratings['User-ID'] = ratings['User-ID'].apply(lambda x: userid2idx[x])"
   ]
  },
  {
   "cell_type": "code",
   "execution_count": 11,
   "metadata": {
    "collapsed": false
   },
   "outputs": [
    {
     "data": {
      "text/html": [
       "<div>\n",
       "<table border=\"1\" class=\"dataframe\">\n",
       "  <thead>\n",
       "    <tr style=\"text-align: right;\">\n",
       "      <th></th>\n",
       "      <th>User-ID</th>\n",
       "      <th>ISBN</th>\n",
       "      <th>Book-Rating</th>\n",
       "    </tr>\n",
       "  </thead>\n",
       "  <tbody>\n",
       "    <tr>\n",
       "      <th>1</th>\n",
       "      <td>0</td>\n",
       "      <td>0</td>\n",
       "      <td>5</td>\n",
       "    </tr>\n",
       "    <tr>\n",
       "      <th>3</th>\n",
       "      <td>1</td>\n",
       "      <td>1</td>\n",
       "      <td>3</td>\n",
       "    </tr>\n",
       "    <tr>\n",
       "      <th>4</th>\n",
       "      <td>1</td>\n",
       "      <td>2</td>\n",
       "      <td>6</td>\n",
       "    </tr>\n",
       "    <tr>\n",
       "      <th>6</th>\n",
       "      <td>2</td>\n",
       "      <td>3</td>\n",
       "      <td>8</td>\n",
       "    </tr>\n",
       "    <tr>\n",
       "      <th>7</th>\n",
       "      <td>3</td>\n",
       "      <td>4</td>\n",
       "      <td>6</td>\n",
       "    </tr>\n",
       "    <tr>\n",
       "      <th>8</th>\n",
       "      <td>4</td>\n",
       "      <td>5</td>\n",
       "      <td>7</td>\n",
       "    </tr>\n",
       "    <tr>\n",
       "      <th>9</th>\n",
       "      <td>5</td>\n",
       "      <td>6</td>\n",
       "      <td>10</td>\n",
       "    </tr>\n",
       "    <tr>\n",
       "      <th>16</th>\n",
       "      <td>6</td>\n",
       "      <td>7</td>\n",
       "      <td>9</td>\n",
       "    </tr>\n",
       "    <tr>\n",
       "      <th>19</th>\n",
       "      <td>6</td>\n",
       "      <td>8</td>\n",
       "      <td>9</td>\n",
       "    </tr>\n",
       "    <tr>\n",
       "      <th>20</th>\n",
       "      <td>6</td>\n",
       "      <td>9</td>\n",
       "      <td>8</td>\n",
       "    </tr>\n",
       "    <tr>\n",
       "      <th>21</th>\n",
       "      <td>6</td>\n",
       "      <td>10</td>\n",
       "      <td>7</td>\n",
       "    </tr>\n",
       "    <tr>\n",
       "      <th>23</th>\n",
       "      <td>6</td>\n",
       "      <td>11</td>\n",
       "      <td>7</td>\n",
       "    </tr>\n",
       "    <tr>\n",
       "      <th>24</th>\n",
       "      <td>7</td>\n",
       "      <td>12</td>\n",
       "      <td>6</td>\n",
       "    </tr>\n",
       "    <tr>\n",
       "      <th>27</th>\n",
       "      <td>8</td>\n",
       "      <td>13</td>\n",
       "      <td>8</td>\n",
       "    </tr>\n",
       "    <tr>\n",
       "      <th>28</th>\n",
       "      <td>9</td>\n",
       "      <td>14</td>\n",
       "      <td>8</td>\n",
       "    </tr>\n",
       "    <tr>\n",
       "      <th>29</th>\n",
       "      <td>10</td>\n",
       "      <td>15</td>\n",
       "      <td>5</td>\n",
       "    </tr>\n",
       "    <tr>\n",
       "      <th>30</th>\n",
       "      <td>11</td>\n",
       "      <td>16</td>\n",
       "      <td>10</td>\n",
       "    </tr>\n",
       "    <tr>\n",
       "      <th>33</th>\n",
       "      <td>12</td>\n",
       "      <td>17</td>\n",
       "      <td>5</td>\n",
       "    </tr>\n",
       "    <tr>\n",
       "      <th>44</th>\n",
       "      <td>12</td>\n",
       "      <td>18</td>\n",
       "      <td>8</td>\n",
       "    </tr>\n",
       "    <tr>\n",
       "      <th>49</th>\n",
       "      <td>12</td>\n",
       "      <td>19</td>\n",
       "      <td>3</td>\n",
       "    </tr>\n",
       "  </tbody>\n",
       "</table>\n",
       "</div>"
      ],
      "text/plain": [
       "    User-ID  ISBN  Book-Rating\n",
       "1         0     0            5\n",
       "3         1     1            3\n",
       "4         1     2            6\n",
       "6         2     3            8\n",
       "7         3     4            6\n",
       "8         4     5            7\n",
       "9         5     6           10\n",
       "16        6     7            9\n",
       "19        6     8            9\n",
       "20        6     9            8\n",
       "21        6    10            7\n",
       "23        6    11            7\n",
       "24        7    12            6\n",
       "27        8    13            8\n",
       "28        9    14            8\n",
       "29       10    15            5\n",
       "30       11    16           10\n",
       "33       12    17            5\n",
       "44       12    18            8\n",
       "49       12    19            3"
      ]
     },
     "execution_count": 11,
     "metadata": {},
     "output_type": "execute_result"
    }
   ],
   "source": [
    "ratings.head(20)"
   ]
  },
  {
   "cell_type": "code",
   "execution_count": 113,
   "metadata": {
    "collapsed": true
   },
   "outputs": [],
   "source": [
    "from collections import Counter\n",
    "from math import log"
   ]
  },
  {
   "cell_type": "code",
   "execution_count": 116,
   "metadata": {
    "collapsed": false
   },
   "outputs": [
    {
     "name": "stdout",
     "output_type": "stream",
     "text": [
      "Counter({8: 103736, 10: 78610, 7: 76457, 9: 67541, 5: 50974, 6: 36924, 4: 8904, 3: 5996, 2: 2759, 1: 1770})\n",
      "{1: 58.607909604519776, 2: 37.59913011960855, 3: 17.300867244829885, 4: 11.650494159928122, 5: 2.0350767057715697, 6: 2.8094464305059037, 7: 1.3567887832376369, 8: 1.0, 9: 1.5358967145881761, 10: 1.3196285459865156}\n",
      "{1: 4.0708696636608455, 2: 3.6269809150114343, 3: 2.8507566300062317, 4: 2.4553485962733395, 5: 0.7105335114380281, 6: 1.032987464118678, 7: 0.30512071895001197, 8: 0.0, 9: 0.4291143893579052, 10: 0.2773502924409179}\n"
     ]
    }
   ],
   "source": [
    "rating_counts = Counter(ratings['Book-Rating'])\n",
    "print(rating_counts)\n",
    "rating_weights = {score : 1.0 / counts * max(rating_counts.values()) for (score, counts) in rating_counts.iteritems()}\n",
    "print(rating_weights)\n",
    "log_rating_weights = {score : log(weight) for (score, weight) in rating_weights.iteritems()}\n",
    "print(log_rating_weights)"
   ]
  },
  {
   "cell_type": "code",
   "execution_count": 12,
   "metadata": {
    "collapsed": false
   },
   "outputs": [
    {
     "data": {
      "text/plain": [
       "(77805, 185973)"
      ]
     },
     "execution_count": 12,
     "metadata": {},
     "output_type": "execute_result"
    }
   ],
   "source": [
    "n_users = ratings['User-ID'].nunique()\n",
    "n_books = ratings['ISBN'].nunique()\n",
    "n_users, n_books"
   ]
  },
  {
   "cell_type": "code",
   "execution_count": 13,
   "metadata": {
    "collapsed": true
   },
   "outputs": [],
   "source": [
    "# number of latent factors\n",
    "n_fac = 50"
   ]
  },
  {
   "cell_type": "code",
   "execution_count": 14,
   "metadata": {
    "collapsed": true
   },
   "outputs": [],
   "source": [
    "#sample_size = 4000\n",
    "sample_size = len(ratings)\n",
    "msk = np.random.rand(sample_size) < 0.8\n",
    "trn = ratings[:sample_size][msk]\n",
    "val = ratings[:sample_size][~msk]"
   ]
  },
  {
   "cell_type": "markdown",
   "metadata": {},
   "source": [
    "## define a linear model, with bias"
   ]
  },
  {
   "cell_type": "markdown",
   "metadata": {},
   "source": [
    "This didn't work at all!\n",
    "\n",
    "tried again with class_weights, still terrible. 20 epochs to hit ~12.5 val_loss"
   ]
  },
  {
   "cell_type": "raw",
   "metadata": {
    "collapsed": true
   },
   "source": [
    "input_users = Input(shape=(1,), dtype='int64', name='user_in')\n",
    "user_embedding = Embedding(n_users, n_fac, input_length=1, W_regularizer=l2(1e-4))(input_users)\n",
    "input_books = Input(shape=(1,), dtype='int64', name='book_in')\n",
    "book_embedding = Embedding(n_books, n_fac, input_length=1, W_regularizer=l2(1e-4))(input_books)"
   ]
  },
  {
   "cell_type": "raw",
   "metadata": {
    "collapsed": false
   },
   "source": [
    "def create_bias(inp, n_in):\n",
    "    x = Embedding(n_in, 1, input_length=1)(inp)\n",
    "    return Flatten()(x)\n",
    "\n",
    "ub = create_bias(input_users, n_users)\n",
    "mb = create_bias(input_books, n_books)"
   ]
  },
  {
   "cell_type": "raw",
   "metadata": {
    "collapsed": true
   },
   "source": [
    "x = merge([user_embedding, book_embedding], mode='dot')\n",
    "x = Flatten()(x)\n",
    "x = merge([x, ub], mode='sum')\n",
    "x = merge([x, mb], mode='sum')"
   ]
  },
  {
   "cell_type": "raw",
   "metadata": {
    "collapsed": true
   },
   "source": [
    "linear_model = Model([input_users, input_books],x)"
   ]
  },
  {
   "cell_type": "raw",
   "metadata": {
    "collapsed": true
   },
   "source": [
    "linear_model.compile(optimizer=RMSprop(0.01), loss='mse')"
   ]
  },
  {
   "cell_type": "raw",
   "metadata": {
    "collapsed": true
   },
   "source": [
    "linear_model.optimizer.lr = 0.02"
   ]
  },
  {
   "cell_type": "raw",
   "metadata": {
    "collapsed": false
   },
   "source": [
    "linear_history = linear_model.fit([trn['User-ID'], trn['ISBN']], trn['Book-Rating'], batch_size=128, nb_epoch=10, \n",
    "          validation_data=([val['User-ID'], val['ISBN']], val['Book-Rating']),\n",
    "                class_weight=rating_weights)"
   ]
  },
  {
   "cell_type": "raw",
   "metadata": {},
   "source": [
    "plt.plot(linear_history.history['loss'])\n",
    "plt.plot(linear_history.history['val_loss'])\n",
    "plt.title('model loss')\n",
    "plt.ylabel('loss')\n",
    "plt.xlabel('epoch')\n",
    "plt.legend(['train', 'test'], loc='upper left')\n",
    "plt.show()"
   ]
  },
  {
   "cell_type": "markdown",
   "metadata": {},
   "source": [
    "## define a neural network model"
   ]
  },
  {
   "cell_type": "markdown",
   "metadata": {},
   "source": [
    "this is also not working well. keeps overfitting, and training accuracy is poor. benchmark is about 0.6 rmse, I'm at like 3.6! That's with a sample batch of 100_000, 20% validation, and this model:\n",
    "\n",
    "input_users = Input(shape=(1,), dtype='int64', name='user_in')\n",
    "user_embedding = Embedding(n_users, n_fac, input_length=1, W_regularizer=l2(1e-2))(input_users)\n",
    "input_books = Input(shape=(1,), dtype='int64', name='book_in')\n",
    "book_embedding = Embedding(n_books, n_fac, input_length=1, W_regularizer=l2(1e-2))(input_books)\n",
    "x = merge([user_embedding, book_embedding], mode='concat')\n",
    "x = Flatten()(x)\n",
    "x = Dropout(0.5)(x)\n",
    "x = Dense(64, activation='relu')(x)\n",
    "x = Dropout(0.8)(x)\n",
    "x = Dense(1)(x)\n",
    "nn = Model([input_users, input_books], x)\n",
    "nn.compile(Adam(0.001), loss='mse')\n",
    "\n",
    "Maybe try increasing model size and adding in more data to regularize?\n",
    "Still pretty lousy. valid_loss is not beating ~12\n",
    "\n",
    "Trying again with all the implicit (0) ratings removed. They are actually the majority!\n",
    "This gives an enormous improvement. valid_loss ~ 2.7 after 3 epochs. But it never really improves. underfitting? yeah, looks like all predictions are quite similar.\n",
    "\n",
    "So I try Jeremy Howard's trick of doing an initial slow epoch ( I have no idea why this would work ). Doesn't seem to help.\n",
    "\n",
    "Someone on the forum recommends initializing by grossly overfitting a small sample. Worth a shot!\n",
    "Nope\n",
    "\n",
    "Ok, try increasing the model size more. 512 hidden units.\n",
    "\n",
    "Nope, how about two layers of 2048? Nope.\n",
    "\n",
    "Changing to RMSprop at least gives monotonically decreasing loss...\n",
    "\n",
    "I should look at the unbalanced class problem, maybe set class weights."
   ]
  },
  {
   "cell_type": "code",
   "execution_count": 117,
   "metadata": {
    "collapsed": true
   },
   "outputs": [],
   "source": [
    "input_users = Input(shape=(1,), dtype='int64', name='user_in')\n",
    "user_embedding = Embedding(n_users, n_fac, input_length=1, W_regularizer=l2(1e-6))(input_users)\n",
    "input_books = Input(shape=(1,), dtype='int64', name='book_in')\n",
    "book_embedding = Embedding(n_books, n_fac, input_length=1, W_regularizer=l2(1e-6))(input_books)"
   ]
  },
  {
   "cell_type": "code",
   "execution_count": 118,
   "metadata": {
    "collapsed": false
   },
   "outputs": [],
   "source": [
    "x = merge([user_embedding, book_embedding], mode='concat')\n",
    "x = Flatten()(x)\n",
    "x = Dropout(0.0)(x)\n",
    "x = Dense(2048, activation='relu')(x)\n",
    "x = Dropout(0.0)(x)\n",
    "x = Dense(2048, activation='relu')(x)\n",
    "x = Dropout(0.0)(x)\n",
    "x = Dense(1)(x)\n",
    "nn = Model([input_users, input_books], x)\n",
    "nn.compile(RMSprop(0.0001), loss='mse')"
   ]
  },
  {
   "cell_type": "raw",
   "metadata": {
    "collapsed": true
   },
   "source": [
    "sample_size = 400\n",
    "msk = np.random.rand(sample_size) < 0.8\n",
    "trn = ratings[:sample_size][msk]\n",
    "val = ratings[:sample_size][~msk]"
   ]
  },
  {
   "cell_type": "raw",
   "metadata": {
    "collapsed": false
   },
   "source": [
    "init_history = nn.fit([trn['User-ID'], trn['ISBN']], trn['Book-Rating'], batch_size=64, nb_epoch=75, \n",
    "          validation_data=([val['User-ID'], val['ISBN']], val['Book-Rating']),\n",
    "      class_weight = rating_weights)"
   ]
  },
  {
   "cell_type": "raw",
   "metadata": {},
   "source": [
    "plt.plot(init_history.history['loss'])\n",
    "plt.plot(init_history.history['val_loss'])\n",
    "plt.title('model loss')\n",
    "plt.ylabel('loss')\n",
    "plt.xlabel('epoch')\n",
    "plt.legend(['train', 'test'], loc='upper left')\n",
    "plt.show()"
   ]
  },
  {
   "cell_type": "raw",
   "metadata": {
    "collapsed": true
   },
   "source": [
    "nn.optimizer.lr = 0.01"
   ]
  },
  {
   "cell_type": "raw",
   "metadata": {
    "collapsed": true
   },
   "source": [
    "sample_size = len(ratings)\n",
    "msk = np.random.rand(sample_size) < 0.8\n",
    "trn = ratings[:sample_size][msk]\n",
    "val = ratings[:sample_size][~msk]"
   ]
  },
  {
   "cell_type": "raw",
   "metadata": {
    "collapsed": false
   },
   "source": [
    "history = nn.fit([trn['User-ID'], trn['ISBN']], trn['Book-Rating'], batch_size=64, nb_epoch=1, \n",
    "          validation_data=([val['User-ID'], val['ISBN']], val['Book-Rating']),\n",
    "      )#class_weight = rating_weights)"
   ]
  },
  {
   "cell_type": "raw",
   "metadata": {},
   "source": [
    "plt.plot(history.history['loss'])\n",
    "plt.plot(history.history['val_loss'])\n",
    "plt.title('model loss')\n",
    "plt.ylabel('loss')\n",
    "plt.xlabel('epoch')\n",
    "plt.legend(['train', 'test'], loc='upper left')\n",
    "plt.show()"
   ]
  },
  {
   "cell_type": "raw",
   "metadata": {},
   "source": [
    "nn.save_weights(model_path + 'pretrain.h5')"
   ]
  },
  {
   "cell_type": "code",
   "execution_count": 126,
   "metadata": {
    "collapsed": true
   },
   "outputs": [],
   "source": [
    "nn.load_weights(model_path + 'pretrain.h5')"
   ]
  },
  {
   "cell_type": "code",
   "execution_count": 127,
   "metadata": {
    "collapsed": true
   },
   "outputs": [],
   "source": [
    "nn.optimizer.lr = 0.001"
   ]
  },
  {
   "cell_type": "code",
   "execution_count": 128,
   "metadata": {
    "collapsed": false
   },
   "outputs": [
    {
     "name": "stdout",
     "output_type": "stream",
     "text": [
      "Train on 346709 samples, validate on 86962 samples\n",
      "Epoch 1/3\n",
      "346709/346709 [==============================] - 249s - loss: 3.4494 - val_loss: 5.5893\n",
      "Epoch 2/3\n",
      "346709/346709 [==============================] - 249s - loss: 3.4545 - val_loss: 5.3517\n",
      "Epoch 3/3\n",
      "346709/346709 [==============================] - 248s - loss: 3.4457 - val_loss: 5.2692\n"
     ]
    },
    {
     "data": {
      "text/plain": [
       "<keras.callbacks.History at 0x7f06e04d2490>"
      ]
     },
     "execution_count": 128,
     "metadata": {},
     "output_type": "execute_result"
    }
   ],
   "source": [
    "nn.fit([trn['User-ID'], trn['ISBN']], trn['Book-Rating'], batch_size=64, nb_epoch=3, \n",
    "          validation_data=([val['User-ID'], val['ISBN']], val['Book-Rating'])\n",
    "      , class_weight=log_rating_weights)"
   ]
  },
  {
   "cell_type": "code",
   "execution_count": 129,
   "metadata": {
    "collapsed": false
   },
   "outputs": [
    {
     "name": "stdout",
     "output_type": "stream",
     "text": [
      "[[ 5.6652]]\n",
      "[[ 5.6652]]\n",
      "[[ 5.6652]]\n",
      "[[ 5.6652]]\n",
      "[[ 5.6652]]\n"
     ]
    }
   ],
   "source": [
    "# are all predictions the same?\n",
    "print(nn.predict([np.array([3]), np.array([6])]))\n",
    "print(nn.predict([np.array([3]), np.array([60])]))\n",
    "print(nn.predict([np.array([3]), np.array([600])]))\n",
    "print(nn.predict([np.array([30]), np.array([6])]))\n",
    "print(nn.predict([np.array([300]), np.array([6])]))"
   ]
  },
  {
   "cell_type": "code",
   "execution_count": null,
   "metadata": {
    "collapsed": true
   },
   "outputs": [],
   "source": []
  }
 ],
 "metadata": {
  "anaconda-cloud": {},
  "kernelspec": {
   "display_name": "Python [conda root]",
   "language": "python",
   "name": "conda-root-py"
  },
  "language_info": {
   "codemirror_mode": {
    "name": "ipython",
    "version": 2
   },
   "file_extension": ".py",
   "mimetype": "text/x-python",
   "name": "python",
   "nbconvert_exporter": "python",
   "pygments_lexer": "ipython2",
   "version": "2.7.12"
  }
 },
 "nbformat": 4,
 "nbformat_minor": 1
}
